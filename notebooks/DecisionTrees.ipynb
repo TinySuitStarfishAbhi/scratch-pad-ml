{
 "cells": [
  {
   "cell_type": "code",
   "execution_count": 17,
   "id": "baf0ce94",
   "metadata": {},
   "outputs": [],
   "source": [
    "import numpy as np\n",
    "from collections import Counter"
   ]
  },
  {
   "cell_type": "code",
   "execution_count": 112,
   "id": "82ae4f75",
   "metadata": {},
   "outputs": [],
   "source": [
    "class Node:\n",
    "    def __init__(self, feature=None, threshold=None, left=None, right=None,*, value=None):\n",
    "        self.feature = feature\n",
    "        self.threshold = threshold\n",
    "        self.left = left\n",
    "        self.right = right\n",
    "        self.value = value\n",
    "        \n",
    "    def is_leaf(self):\n",
    "        return self.value is not None\n",
    "        \n",
    "        \n",
    "class DecisionTree:\n",
    "    def __init__(self, min_samples_split=3, max_depth=101, num_features=None):\n",
    "        self.min_samples_split = min_samples_split\n",
    "        self.max_depth = max_depth\n",
    "        self.num_features = num_features\n",
    "        self.root = None\n",
    "        \n",
    "    def fit(self, X, y):\n",
    "        self.num_features = X.shape[1] if not self.num_features else min(X.shape[1], self.num_features)\n",
    "        self.root = self._expand_tree(X, y)\n",
    "    \n",
    "    def _expand_tree(self, X, y, depth=0):\n",
    "        num_samples, num_features = X.shape\n",
    "        num_labels = len(np.unique(y))\n",
    "        if depth >= self.max_depth or num_labels == 1 or num_samples<self.min_samples_split:\n",
    "            leaf_value = self.get_most_common_label(y)\n",
    "            return Node(value=leaf_value)\n",
    "        features_idx = np.random.choice(num_features, self.num_features, replace=False)\n",
    "        best_feature, best_thresh = self.best_split(X, y, features_idx)\n",
    "        left_idx, right_idx = self._split(X[:, best_feature], best_thresh)\n",
    "        left = self._expand_tree(X[left_idx, :], y[left_idx], depth+1)\n",
    "        right = self._expand_tree(X[right_idx, :], y[right_idx], depth+1)\n",
    "        return Node(best_feature, best_thresh, left, right)\n",
    "    \n",
    "    def best_split(self, X, y, features_idx):\n",
    "        best_gain = -1\n",
    "        split_idx, split_thresh = None, None\n",
    "        for f in features_idx:\n",
    "            X_col = X[:, f]\n",
    "            threshs = np.unique(X_col)\n",
    "            for th in threshs:\n",
    "                gain = self._generate_information_gain(y, X_col, th)\n",
    "                if gain > best_gain:\n",
    "                    best_gain = gain \n",
    "                    split_idx = f\n",
    "                    split_thresh = th\n",
    "        return split_idx, split_thresh\n",
    "    \n",
    "    def _generate_information_gain(self, y, X_column, threshold):\n",
    "        parent_entropy = self._entropy(y)\n",
    "        left_idxs, right_idxs = self._split(X_column, threshold)\n",
    "        if len(left_idxs) == 0 or len(right_idxs) == 0:\n",
    "            return 0\n",
    "        n = len(y)\n",
    "        n_l, n_r = len(left_idxs), len(right_idxs)\n",
    "        e_l, e_r = self._entropy(y[left_idxs]), self._entropy(y[right_idxs])\n",
    "        child_entropy = (n_l/n) * e_l + (n_r/n) * e_r\n",
    "        information_gain = parent_entropy - child_entropy\n",
    "        return information_gain     \n",
    "        \n",
    "    def _split(self, X_col, threshold):\n",
    "        left_idx = np.argwhere(X_col<=threshold).flatten()\n",
    "        right_idx = np.argwhere(X_col>threshold).flatten()\n",
    "        return left_idx, right_idx\n",
    "        \n",
    "    def _entropy(self, y):\n",
    "        count_vals = np.bincount(y)\n",
    "        ps = count_vals / len(y)\n",
    "        return -np.sum([p * np.log(p) for p in ps if p>0])\n",
    "        \n",
    "    def get_most_common_label(self, y):\n",
    "        count = Counter(y)\n",
    "        return count.most_common(1)[0][0]\n",
    "        \n",
    "    def _traverse_tree(self, x, node):\n",
    "        if node.is_leaf():\n",
    "            return node.value\n",
    "        if x[node.feature] <= node.threshold:\n",
    "            return self._traverse_tree(x, node.left)\n",
    "        return self._traverse_tree(x, node.right)\n",
    "        \n",
    "    def predict(self, X):\n",
    "        return np.array([self._traverse_tree(x, self.root) for x in X])\n",
    "        "
   ]
  },
  {
   "cell_type": "code",
   "execution_count": 113,
   "id": "93905bba",
   "metadata": {},
   "outputs": [],
   "source": [
    "from sklearn import datasets\n",
    "from sklearn.model_selection import train_test_split"
   ]
  },
  {
   "cell_type": "code",
   "execution_count": 114,
   "id": "92eb44ee",
   "metadata": {},
   "outputs": [],
   "source": [
    "data = datasets.load_breast_cancer()\n",
    "X, y = data.data, data.target"
   ]
  },
  {
   "cell_type": "code",
   "execution_count": 115,
   "id": "3fb53038",
   "metadata": {},
   "outputs": [],
   "source": [
    "X_train, X_test, y_train, y_test = train_test_split(X, y, test_size=0.20, random_state=42)"
   ]
  },
  {
   "cell_type": "code",
   "execution_count": 116,
   "id": "382cf925",
   "metadata": {},
   "outputs": [],
   "source": [
    "clf = DecisionTree(max_depth=10)"
   ]
  },
  {
   "cell_type": "code",
   "execution_count": 117,
   "id": "20040a40",
   "metadata": {},
   "outputs": [],
   "source": [
    "clf.fit(X_train, y_train)"
   ]
  },
  {
   "cell_type": "code",
   "execution_count": 118,
   "id": "a2c5fb89",
   "metadata": {},
   "outputs": [],
   "source": [
    "predictions = clf.predict(X_test)"
   ]
  },
  {
   "cell_type": "code",
   "execution_count": 119,
   "id": "caadff21",
   "metadata": {},
   "outputs": [],
   "source": [
    "def accuracy(y_test, y_pred):\n",
    "    return np.sum(y_test == y_pred)/len(y_test)"
   ]
  },
  {
   "cell_type": "code",
   "execution_count": 120,
   "id": "47ec26fa",
   "metadata": {},
   "outputs": [
    {
     "data": {
      "text/plain": [
       "0.9385964912280702"
      ]
     },
     "execution_count": 120,
     "metadata": {},
     "output_type": "execute_result"
    }
   ],
   "source": [
    "accuracy(y_test, predictions)"
   ]
  },
  {
   "cell_type": "code",
   "execution_count": null,
   "id": "9f5cf57d",
   "metadata": {},
   "outputs": [],
   "source": []
  }
 ],
 "metadata": {
  "kernelspec": {
   "display_name": "CondaEnv",
   "language": "python",
   "name": "condaenv"
  },
  "language_info": {
   "codemirror_mode": {
    "name": "ipython",
    "version": 3
   },
   "file_extension": ".py",
   "mimetype": "text/x-python",
   "name": "python",
   "nbconvert_exporter": "python",
   "pygments_lexer": "ipython3",
   "version": "3.9.15"
  }
 },
 "nbformat": 4,
 "nbformat_minor": 5
}
