{
 "cells": [
  {
   "cell_type": "code",
   "execution_count": 4,
   "id": "6cb2f6e7",
   "metadata": {},
   "outputs": [],
   "source": [
    "import numpy as np\n",
    "from collections import Counter"
   ]
  },
  {
   "cell_type": "code",
   "execution_count": 3,
   "id": "7d6fcb68",
   "metadata": {},
   "outputs": [],
   "source": [
    "def calculate_euclidean_distance(a, b):\n",
    "    return np.sqrt(np.sum(a-b)**2)"
   ]
  },
  {
   "cell_type": "code",
   "execution_count": 30,
   "id": "800b4693",
   "metadata": {},
   "outputs": [],
   "source": [
    "class KNN:\n",
    "    def __init__(self, k=5):\n",
    "        self.k = k\n",
    "    \n",
    "    def fit(self, X, y):\n",
    "        self.X_train = X\n",
    "        self.y_train = y\n",
    "    \n",
    "    def predict(self, X):\n",
    "        predictions = [self.preds(x) for x in X]\n",
    "        return predictions\n",
    "    \n",
    "    def preds(self, x):\n",
    "        distances = [calculate_euclidean_distance(x, x_train_point) for x_train_point in self.X_train]\n",
    "        indices = np.argsort(distances)[:self.k]\n",
    "        labels = [self.y_train[i] for i in indices]\n",
    "        tops = Counter(labels).most_common()\n",
    "        return tops[0][0]"
   ]
  },
  {
   "cell_type": "code",
   "execution_count": 6,
   "id": "22f98834",
   "metadata": {},
   "outputs": [],
   "source": [
    "from sklearn import datasets\n",
    "from sklearn.model_selection import train_test_split\n",
    "import matplotlib.pyplot as plt\n",
    "%matplotlib inline"
   ]
  },
  {
   "cell_type": "code",
   "execution_count": 7,
   "id": "8ada3caf",
   "metadata": {},
   "outputs": [],
   "source": [
    "iris = datasets.load_iris()\n",
    "X, y = iris.data, iris.target"
   ]
  },
  {
   "cell_type": "code",
   "execution_count": 8,
   "id": "f1e9e340",
   "metadata": {},
   "outputs": [],
   "source": [
    "X_train, X_test, y_train, y_test = train_test_split(X, y, test_size=0.25, random_state=69)"
   ]
  },
  {
   "cell_type": "code",
   "execution_count": 9,
   "id": "fc76ded7",
   "metadata": {},
   "outputs": [],
   "source": [
    "from matplotlib.colors import ListedColormap\n",
    "cmap = ListedColormap([\"#FF0000\", \"#00FF00\", \"0000FF\"])"
   ]
  },
  {
   "cell_type": "code",
   "execution_count": 13,
   "id": "aed58e27",
   "metadata": {},
   "outputs": [],
   "source": [
    "# plt.figure()\n",
    "# plt.scatter(X[:,2], X[:,3], c=y, cmap=cmap, edgecolor='k', s=25)"
   ]
  },
  {
   "cell_type": "code",
   "execution_count": 36,
   "id": "7a0e0f21",
   "metadata": {},
   "outputs": [],
   "source": [
    "clf = KNN(k=5)"
   ]
  },
  {
   "cell_type": "code",
   "execution_count": 37,
   "id": "f39552c1",
   "metadata": {},
   "outputs": [],
   "source": [
    "clf.fit(X_train, y_train)"
   ]
  },
  {
   "cell_type": "code",
   "execution_count": 38,
   "id": "fda4cd9e",
   "metadata": {},
   "outputs": [],
   "source": [
    "preds = clf.predict(X_test)"
   ]
  },
  {
   "cell_type": "code",
   "execution_count": 39,
   "id": "2301ae02",
   "metadata": {},
   "outputs": [
    {
     "data": {
      "text/plain": [
       "0.868421052631579"
      ]
     },
     "execution_count": 39,
     "metadata": {},
     "output_type": "execute_result"
    }
   ],
   "source": [
    "accuracy = np.sum(preds == y_test) / len(y_test)\n",
    "accuracy"
   ]
  },
  {
   "cell_type": "code",
   "execution_count": null,
   "id": "3865b9e6",
   "metadata": {},
   "outputs": [],
   "source": []
  }
 ],
 "metadata": {
  "kernelspec": {
   "display_name": "Python 3 (ipykernel)",
   "language": "python",
   "name": "python3"
  },
  "language_info": {
   "codemirror_mode": {
    "name": "ipython",
    "version": 3
   },
   "file_extension": ".py",
   "mimetype": "text/x-python",
   "name": "python",
   "nbconvert_exporter": "python",
   "pygments_lexer": "ipython3",
   "version": "3.9.13"
  }
 },
 "nbformat": 4,
 "nbformat_minor": 5
}
